{
 "cells": [
  {
   "cell_type": "markdown",
   "id": "c77db2d1",
   "metadata": {},
   "source": [
    "### Importation des librairies"
   ]
  },
  {
   "cell_type": "markdown",
   "id": "900485f6",
   "metadata": {},
   "source": [
    "### Chargement des données (Iris Dataset)"
   ]
  },
  {
   "cell_type": "markdown",
   "id": "5b82b3f0",
   "metadata": {},
   "source": [
    "### Préparation des données"
   ]
  },
  {
   "cell_type": "raw",
   "id": "b951e059",
   "metadata": {},
   "source": [
    "Conversion des dataframes en tableau Numpy"
   ]
  },
  {
   "cell_type": "raw",
   "id": "44b2cc0d",
   "metadata": {},
   "source": [
    "ATTENTION : utiliser seulement les caractéristiques \"petal length\" et \"petal width\""
   ]
  },
  {
   "cell_type": "markdown",
   "id": "edef24f1",
   "metadata": {},
   "source": [
    "### Afficher les données"
   ]
  },
  {
   "cell_type": "markdown",
   "id": "84c68a58",
   "metadata": {},
   "source": [
    "### Echantillonner les données"
   ]
  },
  {
   "cell_type": "raw",
   "id": "7562b090",
   "metadata": {},
   "source": [
    "Penser à s'assurer graphiquement de la bonne répartition des données"
   ]
  },
  {
   "cell_type": "raw",
   "id": "4d582fd1",
   "metadata": {},
   "source": [
    "Random_state = 42"
   ]
  },
  {
   "cell_type": "markdown",
   "id": "cabc8622",
   "metadata": {},
   "source": [
    "### Entrainer le modèle avec max_depth=3, puis max_depth=4 jusqu'à max_depth=10"
   ]
  },
  {
   "cell_type": "raw",
   "id": "a03e4a57",
   "metadata": {},
   "source": [
    "random_state=42 à chaque fois"
   ]
  },
  {
   "cell_type": "markdown",
   "id": "200971fd",
   "metadata": {},
   "source": [
    "### Pour chaque entrainement"
   ]
  },
  {
   "cell_type": "raw",
   "id": "4027cecf",
   "metadata": {},
   "source": [
    "Evaluer les performances sur le jeu d'apprentissage"
   ]
  },
  {
   "cell_type": "raw",
   "id": "4c0c5ece",
   "metadata": {},
   "source": [
    "Evaluer les peformances sur le jeu de test"
   ]
  },
  {
   "cell_type": "markdown",
   "id": "41edf37a",
   "metadata": {},
   "source": [
    "### Faire une synthèse et conclure"
   ]
  },
  {
   "cell_type": "code",
   "execution_count": null,
   "id": "ec2eeef7",
   "metadata": {},
   "outputs": [],
   "source": []
  }
 ],
 "metadata": {
  "kernelspec": {
   "display_name": "Python 3 (ipykernel)",
   "language": "python",
   "name": "python3"
  },
  "language_info": {
   "codemirror_mode": {
    "name": "ipython",
    "version": 3
   },
   "file_extension": ".py",
   "mimetype": "text/x-python",
   "name": "python",
   "nbconvert_exporter": "python",
   "pygments_lexer": "ipython3",
   "version": "3.11.4"
  }
 },
 "nbformat": 4,
 "nbformat_minor": 5
}
