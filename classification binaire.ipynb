{
 "cells": [
  {
   "cell_type": "markdown",
   "id": "af619f36",
   "metadata": {},
   "source": [
    "### Importation des librairies Python nécessaires à la résolution du problème"
   ]
  },
  {
   "cell_type": "code",
   "execution_count": 1,
   "id": "1008ecc1",
   "metadata": {},
   "outputs": [],
   "source": [
    "import pandas as pd\n",
    "import numpy as np\n",
    "import seaborn as sns\n",
    "import matplotlib.pyplot as plt\n",
    "import statsmodels.formula.api as smf\n",
    "import statsmodels.api as sm\n"
   ]
  },
  {
   "cell_type": "markdown",
   "id": "ed7d4533",
   "metadata": {},
   "source": [
    "### Chargement des données du Breast Cancer Wisconsin (diagnostic) Dataset"
   ]
  },
  {
   "cell_type": "code",
   "execution_count": 2,
   "id": "794f5667",
   "metadata": {},
   "outputs": [],
   "source": [
    "from sklearn.datasets import load_breast_cancer #importer depuis Sklearn le dataset breast cancer"
   ]
  },
  {
   "cell_type": "markdown",
   "id": "2d877eda",
   "metadata": {},
   "source": [
    "### Mise au format Numpy des données"
   ]
  },
  {
   "cell_type": "code",
   "execution_count": 3,
   "id": "2cc56f41",
   "metadata": {},
   "outputs": [],
   "source": [
    "# Transformer en tableau numpy le dataset chargé\n",
    "data, target = load_breast_cancer(return_X_y=True, as_frame=False)"
   ]
  },
  {
   "cell_type": "code",
   "execution_count": 4,
   "id": "c40e05c9",
   "metadata": {},
   "outputs": [
    {
     "data": {
      "text/plain": [
       "(569, 30)"
      ]
     },
     "execution_count": 4,
     "metadata": {},
     "output_type": "execute_result"
    }
   ],
   "source": [
    "data.shape"
   ]
  },
  {
   "cell_type": "code",
   "execution_count": 5,
   "id": "0f14ee21",
   "metadata": {},
   "outputs": [
    {
     "data": {
      "text/plain": [
       "(569,)"
      ]
     },
     "execution_count": 5,
     "metadata": {},
     "output_type": "execute_result"
    }
   ],
   "source": [
    "target.shape"
   ]
  },
  {
   "cell_type": "code",
   "execution_count": 6,
   "id": "46522df6",
   "metadata": {},
   "outputs": [],
   "source": [
    "# Redimenssionner le target\n",
    "target = target.reshape((target.shape[0],1))"
   ]
  },
  {
   "cell_type": "code",
   "execution_count": 7,
   "id": "39e2803f",
   "metadata": {},
   "outputs": [
    {
     "data": {
      "text/plain": [
       "(569, 1)"
      ]
     },
     "execution_count": 7,
     "metadata": {},
     "output_type": "execute_result"
    }
   ],
   "source": [
    "target.shape"
   ]
  },
  {
   "cell_type": "raw",
   "id": "3d75eeb9",
   "metadata": {},
   "source": [
    "Par défaut, ce jeu de données représente les patients malades par la valeur 0 et les patients sains par la valeur 1, ce qui est l'inverse de ce qui se fait traditionnellement en santé. Nous devons donc relabelliser les patients sains par la valeur 0 et les patients malades par la valeur 1."
   ]
  },
  {
   "cell_type": "code",
   "execution_count": 8,
   "id": "1169cc0a",
   "metadata": {},
   "outputs": [],
   "source": [
    "# Relabelliser les patients malades=1 et non malades=0\n",
    "y = np.where(target==1,0,1)"
   ]
  },
  {
   "cell_type": "code",
   "execution_count": 9,
   "id": "f5729e99",
   "metadata": {},
   "outputs": [
    {
     "data": {
      "text/plain": [
       "(569, 1)"
      ]
     },
     "execution_count": 9,
     "metadata": {},
     "output_type": "execute_result"
    }
   ],
   "source": [
    "y.shape"
   ]
  },
  {
   "cell_type": "markdown",
   "id": "6318a181",
   "metadata": {},
   "source": [
    "### Echantillonnage des données"
   ]
  },
  {
   "cell_type": "raw",
   "id": "f8d81985",
   "metadata": {},
   "source": [
    "test_size = 113"
   ]
  },
  {
   "cell_type": "code",
   "execution_count": 10,
   "id": "24dde9c7",
   "metadata": {},
   "outputs": [
    {
     "data": {
      "text/plain": [
       "0.19859402460456943"
      ]
     },
     "execution_count": 10,
     "metadata": {},
     "output_type": "execute_result"
    }
   ],
   "source": [
    "113/569"
   ]
  },
  {
   "cell_type": "code",
   "execution_count": 11,
   "id": "42c7ef33",
   "metadata": {},
   "outputs": [],
   "source": [
    "from sklearn.model_selection import train_test_split"
   ]
  },
  {
   "cell_type": "code",
   "execution_count": 12,
   "id": "c210ed9a",
   "metadata": {},
   "outputs": [],
   "source": [
    "X = data"
   ]
  },
  {
   "cell_type": "code",
   "execution_count": 13,
   "id": "26ef6458",
   "metadata": {},
   "outputs": [],
   "source": [
    "xtrain, xtest, ytrain, ytest = train_test_split(X, y, test_size = 0.198, stratify=y, random_state=42 ) #Tjs utiliser stratify sur classif"
   ]
  },
  {
   "cell_type": "code",
   "execution_count": 14,
   "id": "fecff056",
   "metadata": {},
   "outputs": [
    {
     "data": {
      "text/plain": [
       "(456, 30)"
      ]
     },
     "execution_count": 14,
     "metadata": {},
     "output_type": "execute_result"
    }
   ],
   "source": [
    "xtrain.shape"
   ]
  },
  {
   "cell_type": "code",
   "execution_count": 15,
   "id": "d891c61c",
   "metadata": {},
   "outputs": [
    {
     "data": {
      "text/plain": [
       "(113, 30)"
      ]
     },
     "execution_count": 15,
     "metadata": {},
     "output_type": "execute_result"
    }
   ],
   "source": [
    "xtest.shape"
   ]
  },
  {
   "cell_type": "markdown",
   "id": "a3d34438",
   "metadata": {},
   "source": [
    "### Afficher sous forme d'histogrammes la distribution du jeu de données initial, du jeu de train et du jeu de test en fonction de chaque catégorie (bénigne et maline)"
   ]
  },
  {
   "cell_type": "code",
   "execution_count": 16,
   "id": "53d5d07b",
   "metadata": {},
   "outputs": [],
   "source": [
    "#X, y = np.meshgrid(X, y)"
   ]
  },
  {
   "cell_type": "code",
   "execution_count": 17,
   "id": "166a2acb",
   "metadata": {
    "scrolled": false
   },
   "outputs": [
    {
     "data": {
      "image/png": "[encoded data removed]",
      "text/plain": [
       "<Figure size 600x600 with 1 Axes>"
      ]
     },
     "metadata": {},
     "output_type": "display_data"
    }
   ],
   "source": [
    "plt.figure(1, figsize=(6,6)) # Création d'une figure\n",
    "\n",
    "# premiere courbe\n",
    "plt.hist(y, bins=2, color='blue', rwidth=0.6, label='Target')\n",
    "# deuxieme courbe\n",
    "plt.hist(ytrain, bins=3, color='red', rwidth=0.7, label='Train')\n",
    "# troisième courbe\n",
    "plt.hist(ytest, bins=4, color='green', rwidth=0.8, label='Test')\n",
    "# Extra informations\n",
    "plt.grid()\n",
    "plt.title('Distribution') # titre\n",
    "plt.xlabel('Catégorie benigne et maligne') # axes abscisses\n",
    "plt.ylabel('Nombre de patients') # axes ordonnées\n",
    "    plt.legend() # legend\n",
    "plt.text(x=0.05, y=360, s='Non malade')\n",
    "plt.text(x=0.7, y=220, s='Malade')\n",
    "plt.savefig('figure_1.png') # sauvegarde la figure dans le repertoire de travail\n",
    "plt.show() # affiche la figure\n"
   ]
  },
  {
   "cell_type": "markdown",
   "id": "7858f7fa",
   "metadata": {},
   "source": [
    "### Effectuer le Feature Scaling"
   ]
  },
  {
   "cell_type": "code",
   "execution_count": 18,
   "id": "f3ea1594",
   "metadata": {},
   "outputs": [],
   "source": [
    "from sklearn.inspection import DecisionBoundaryDisplay\n",
    "from sklearn.linear_model import LogisticRegression\n",
    "from sklearn import preprocessing\n",
    "from sklearn.pipeline import make_pipeline\n",
    "from sklearn.preprocessing import StandardScaler"
   ]
  },
  {
   "cell_type": "code",
   "execution_count": 19,
   "id": "7b336785",
   "metadata": {
    "scrolled": true
   },
   "outputs": [
    {
     "name": "stderr",
     "output_type": "stream",
     "text": [
      "C:\\Users\\Utilisateur\\conda\\anaconda3\\envs\\learn\\Lib\\site-packages\\sklearn\\utils\\validation.py:1143: DataConversionWarning: A column-vector y was passed when a 1d array was expected. Please change the shape of y to (n_samples, ), for example using ravel().\n",
      "  y = column_or_1d(y, warn=True)\n"
     ]
    }
   ],
   "source": [
    "scaler = preprocessing.StandardScaler().fit(xtrain)\n",
    "scaler\n",
    "scaler.mean_\n",
    "X_scaled = scaler.transform(xtrain)\n",
    "X_scaled\n",
    "X_scaled.mean(axis=0)\n",
    "X_scaled.std(axis=0)\n",
    "pipe = make_pipeline(StandardScaler(), LogisticRegression(C = 0.1, max_iter = 10000))\n",
    "# Appliquer la mise à l’échelle sur les données d’apprentissage\n",
    "pipe.fit(xtrain, ytrain)\n",
    "#effectuer une prédiction sur les données d'apprentissage\n",
    "ypred_tr = pipe.predict(xtrain)\n",
    "# Calcul du score de l'apprentissage\n",
    "trsc = pipe.score(xtrain, ytrain)\n",
    "# Appliquer la prédiction sur le jeu de test à travers le pipeline\n",
    "ypred = pipe.predict(xtest)\n",
    "# Appliquer la mise à l’échelle sur les données de test sans fuite de données d’apprentissage\n",
    "# Calcul du score de test\n",
    "ptsc = pipe.score(xtest, ytest)  "
   ]
  },
  {
   "cell_type": "code",
   "execution_count": 20,
   "id": "d0bfa461",
   "metadata": {},
   "outputs": [
    {
     "data": {
      "text/plain": [
       "(456, 1)"
      ]
     },
     "execution_count": 20,
     "metadata": {},
     "output_type": "execute_result"
    }
   ],
   "source": [
    "ytrain.shape"
   ]
  },
  {
   "cell_type": "code",
   "execution_count": 21,
   "id": "ea449334",
   "metadata": {},
   "outputs": [],
   "source": [
    "ypred_tr = ypred_tr.reshape((ypred_tr.shape[0],1))"
   ]
  },
  {
   "cell_type": "code",
   "execution_count": 22,
   "id": "4eba1eae",
   "metadata": {},
   "outputs": [
    {
     "data": {
      "text/plain": [
       "(456, 1)"
      ]
     },
     "execution_count": 22,
     "metadata": {},
     "output_type": "execute_result"
    }
   ],
   "source": [
    "ypred_tr.shape"
   ]
  },
  {
   "cell_type": "code",
   "execution_count": 23,
   "id": "7e3e9098",
   "metadata": {},
   "outputs": [
    {
     "data": {
      "text/plain": [
       "0.9802631578947368"
      ]
     },
     "execution_count": 23,
     "metadata": {},
     "output_type": "execute_result"
    }
   ],
   "source": [
    "trsc"
   ]
  },
  {
   "cell_type": "code",
   "execution_count": 24,
   "id": "612cc3fd",
   "metadata": {},
   "outputs": [
    {
     "data": {
      "text/plain": [
       "0.9823008849557522"
      ]
     },
     "execution_count": 24,
     "metadata": {},
     "output_type": "execute_result"
    }
   ],
   "source": [
    "ptsc"
   ]
  },
  {
   "cell_type": "markdown",
   "id": "aa4ee28f",
   "metadata": {},
   "source": [
    "### Entrainer le modèle de régression logistique"
   ]
  },
  {
   "cell_type": "raw",
   "id": "92aab9c4",
   "metadata": {},
   "source": [
    "model = LogisticRegression(C = 0.1, max_iter = 10000)"
   ]
  },
  {
   "cell_type": "code",
   "execution_count": 25,
   "id": "95633c42",
   "metadata": {},
   "outputs": [],
   "source": [
    "#from sklearn.linear_model import LogisticRegression\n",
    "#model = LogisticRegression(C = 0.1, max_iter = 10000).fit(xtrain, ytrain)\n",
    "#ypred = model.predict(xtest)\n",
    "#model.predict_proba(xtest)\n",
    "#model.score(xtest, ypred)"
   ]
  },
  {
   "cell_type": "markdown",
   "id": "f97a4e04",
   "metadata": {},
   "source": [
    "### Calculer et afficher les performances obtenues sur le jeu d'apprentissage"
   ]
  },
  {
   "cell_type": "raw",
   "id": "0ef54eab",
   "metadata": {},
   "source": [
    "Matrice de confusion"
   ]
  },
  {
   "cell_type": "code",
   "execution_count": 26,
   "id": "2d1d1b68",
   "metadata": {},
   "outputs": [],
   "source": [
    "from sklearn.metrics import confusion_matrix "
   ]
  },
  {
   "cell_type": "code",
   "execution_count": 27,
   "id": "0d035532",
   "metadata": {},
   "outputs": [
    {
     "data": {
      "text/plain": [
       "array([[284,   2],\n",
       "       [  7, 163]], dtype=int64)"
      ]
     },
     "execution_count": 27,
     "metadata": {},
     "output_type": "execute_result"
    }
   ],
   "source": [
    "# Utiliser la matrisse de confusion\n",
    "cm = confusion_matrix(ytrain, ypred_tr)\n",
    "cm"
   ]
  },
  {
   "cell_type": "code",
   "execution_count": 28,
   "id": "9be79624",
   "metadata": {},
   "outputs": [
    {
     "data": {
      "text/plain": [
       "<Axes: >"
      ]
     },
     "execution_count": 28,
     "metadata": {},
     "output_type": "execute_result"
    },
    {
     "data": {
      "image/png": "[encoded data removed]",
      "text/plain": [
       "<Figure size 640x480 with 2 Axes>"
      ]
     },
     "metadata": {},
     "output_type": "display_data"
    }
   ],
   "source": [
    "# Afficher la matrisse de confusion dns un graphique\n",
    "sns.heatmap(cm, annot=True,fmt='' )"
   ]
  },
  {
   "cell_type": "raw",
   "id": "6014a222",
   "metadata": {},
   "source": [
    "Taux de classification, Rappel, Précision et F1-Score"
   ]
  },
  {
   "cell_type": "code",
   "execution_count": 29,
   "id": "dcb7309b",
   "metadata": {},
   "outputs": [
    {
     "data": {
      "text/plain": [
       "0.9802631578947368"
      ]
     },
     "execution_count": 29,
     "metadata": {},
     "output_type": "execute_result"
    }
   ],
   "source": [
    "# Taux de classification calculer l'accuracy du modèle\n",
    "from sklearn.metrics import accuracy_score, recall_score, precision_score, f1_score, roc_auc_score\n",
    "asc = accuracy_score(ytrain, ypred_tr)\n",
    "asc"
   ]
  },
  {
   "cell_type": "code",
   "execution_count": 30,
   "id": "c40cc4b1",
   "metadata": {},
   "outputs": [
    {
     "data": {
      "text/plain": [
       "0.9588235294117647"
      ]
     },
     "execution_count": 30,
     "metadata": {},
     "output_type": "execute_result"
    }
   ],
   "source": [
    "# Precision/Recall caalculer la precision et le rappel du modèle\n",
    "rsc = recall_score(ytrain, ypred_tr)\n",
    "rsc"
   ]
  },
  {
   "cell_type": "code",
   "execution_count": 31,
   "id": "fd2c4fc6",
   "metadata": {},
   "outputs": [
    {
     "data": {
      "text/plain": [
       "0.9878787878787879"
      ]
     },
     "execution_count": 31,
     "metadata": {},
     "output_type": "execute_result"
    }
   ],
   "source": [
    "psc = precision_score(ytrain, ypred_tr)\n",
    "psc"
   ]
  },
  {
   "cell_type": "code",
   "execution_count": 32,
   "id": "a4e07725",
   "metadata": {},
   "outputs": [
    {
     "data": {
      "image/png": "[encoded data removed]",
      "text/plain": [
       "<Figure size 640x480 with 1 Axes>"
      ]
     },
     "metadata": {},
     "output_type": "display_data"
    }
   ],
   "source": [
    "# Affichage dans graphique du PR Curve\n",
    "## Add noisy features\n",
    "#random_state = np.random.RandomState(0)\n",
    "#n_samples, n_features = X.shape\n",
    "#X = np.concatenate([X, random_state.randn(n_samples, 200 * n_features)], axis=1)\n",
    "# Importer les modules pour utiliser PR Curve\n",
    "from sklearn.svm import LinearSVC\n",
    "from sklearn.metrics import PrecisionRecallDisplay\n",
    "\n",
    "display = PrecisionRecallDisplay.from_estimator(\n",
    "    pipe, xtrain, ytrain, name=\"LinearSVC\")\n",
    "_ = display.ax_.set_title(\"2-class Precision-Recall curve\")"
   ]
  },
  {
   "cell_type": "code",
   "execution_count": 33,
   "id": "192f665c",
   "metadata": {},
   "outputs": [
    {
     "data": {
      "text/plain": [
       "0.973134328358209"
      ]
     },
     "execution_count": 33,
     "metadata": {},
     "output_type": "execute_result"
    }
   ],
   "source": [
    "# Calcul du F1-Score\n",
    "fsc = f1_score(ytrain, ypred_tr)\n",
    "fsc"
   ]
  },
  {
   "cell_type": "raw",
   "id": "5f1992d9",
   "metadata": {},
   "source": [
    "Courbe ROC, AUC"
   ]
  },
  {
   "cell_type": "code",
   "execution_count": 34,
   "id": "9fc1a008",
   "metadata": {
    "scrolled": false
   },
   "outputs": [
    {
     "data": {
      "image/png": "[encoded data removed]",
      "text/plain": [
       "<Figure size 640x480 with 1 Axes>"
      ]
     },
     "metadata": {},
     "output_type": "display_data"
    }
   ],
   "source": [
    "# Calcul deu ROC et AUC\n",
    "trrasc = roc_auc_score(ytrain, ypred_tr)\n",
    "trrasc\n",
    "# Afficher la courbe ROC\n",
    "from sklearn.metrics import RocCurveDisplay, roc_curve\n",
    "\n",
    "yptr_score = pipe.decision_function(xtrain)\n",
    "\n",
    "fpr, tpr, _ = roc_curve(ytrain, yptr_score, pos_label=pipe.classes_[1])\n",
    "roc_display = RocCurveDisplay(fpr=fpr, tpr=tpr).plot()"
   ]
  },
  {
   "cell_type": "markdown",
   "id": "6c33b77f",
   "metadata": {},
   "source": [
    "### Calculer et afficher les performances obtenues sur le jeu de test"
   ]
  },
  {
   "cell_type": "raw",
   "id": "0246c98f",
   "metadata": {},
   "source": [
    "Matrice de confusion"
   ]
  },
  {
   "cell_type": "code",
   "execution_count": 35,
   "id": "3d9be099",
   "metadata": {},
   "outputs": [
    {
     "data": {
      "text/plain": [
       "array([[71,  0],\n",
       "       [ 2, 40]], dtype=int64)"
      ]
     },
     "execution_count": 35,
     "metadata": {},
     "output_type": "execute_result"
    }
   ],
   "source": [
    "# Utiliser la matrisse de confusion\n",
    "cm = confusion_matrix(ytest, ypred)\n",
    "cm"
   ]
  },
  {
   "cell_type": "code",
   "execution_count": 36,
   "id": "1c732ccc",
   "metadata": {},
   "outputs": [
    {
     "data": {
      "text/plain": [
       "<Axes: >"
      ]
     },
     "execution_count": 36,
     "metadata": {},
     "output_type": "execute_result"
    },
    {
     "data": {
      "image/png": "[encoded data removed]",
      "text/plain": [
       "<Figure size 640x480 with 2 Axes>"
      ]
     },
     "metadata": {},
     "output_type": "display_data"
    }
   ],
   "source": [
    "# Afficher la matrisse de confusion dns un graphique\n",
    "sns.heatmap(cm, annot=True)"
   ]
  },
  {
   "cell_type": "raw",
   "id": "0b9ec132",
   "metadata": {},
   "source": [
    "Taux de classification, Rappel, Précision et F1-Score"
   ]
  },
  {
   "cell_type": "code",
   "execution_count": 37,
   "id": "0a858ef3",
   "metadata": {},
   "outputs": [
    {
     "data": {
      "text/plain": [
       "0.9823008849557522"
      ]
     },
     "execution_count": 37,
     "metadata": {},
     "output_type": "execute_result"
    }
   ],
   "source": [
    "asc = accuracy_score(ytest, ypred)\n",
    "asc"
   ]
  },
  {
   "cell_type": "code",
   "execution_count": 38,
   "id": "e502a268",
   "metadata": {},
   "outputs": [
    {
     "data": {
      "text/plain": [
       "0.9523809523809523"
      ]
     },
     "execution_count": 38,
     "metadata": {},
     "output_type": "execute_result"
    }
   ],
   "source": [
    "# Precision/Recall caalculer la precision et le rappel du modèle\n",
    "rsc = recall_score(ytest, ypred)\n",
    "rsc"
   ]
  },
  {
   "cell_type": "code",
   "execution_count": 39,
   "id": "ea58acbb",
   "metadata": {},
   "outputs": [
    {
     "data": {
      "text/plain": [
       "1.0"
      ]
     },
     "execution_count": 39,
     "metadata": {},
     "output_type": "execute_result"
    }
   ],
   "source": [
    "psc = precision_score(ytest, ypred)\n",
    "psc"
   ]
  },
  {
   "cell_type": "code",
   "execution_count": 40,
   "id": "085410f9",
   "metadata": {},
   "outputs": [
    {
     "data": {
      "image/png": "[encoded data removed]",
      "text/plain": [
       "<Figure size 640x480 with 1 Axes>"
      ]
     },
     "metadata": {},
     "output_type": "display_data"
    }
   ],
   "source": [
    "# Affichage dans graphique du PR Curve\n",
    "display = PrecisionRecallDisplay.from_estimator(\n",
    "    pipe, xtest, ytest, name=\"LinearSVC\")\n",
    "_ = display.ax_.set_title(\"2-class Precision-Recall curve\")"
   ]
  },
  {
   "cell_type": "code",
   "execution_count": 41,
   "id": "88826e28",
   "metadata": {},
   "outputs": [
    {
     "data": {
      "text/plain": [
       "0.975609756097561"
      ]
     },
     "execution_count": 41,
     "metadata": {},
     "output_type": "execute_result"
    }
   ],
   "source": [
    "# Calcul du F1-Score\n",
    "fsc = f1_score(ytest, ypred)\n",
    "fsc"
   ]
  },
  {
   "cell_type": "raw",
   "id": "5f0dddf3",
   "metadata": {},
   "source": [
    "Courbe ROC, AUC"
   ]
  },
  {
   "cell_type": "code",
   "execution_count": 42,
   "id": "c9c10222",
   "metadata": {},
   "outputs": [
    {
     "data": {
      "image/png": "[encoded data removed]",
      "text/plain": [
       "<Figure size 640x480 with 1 Axes>"
      ]
     },
     "metadata": {},
     "output_type": "display_data"
    }
   ],
   "source": [
    "# Calcul deu ROC et AUC\n",
    "ttrasc = roc_auc_score(ytest, ypred)\n",
    "ttrasc\n",
    "# Afficher la courbe ROC\n",
    "from sklearn.metrics import RocCurveDisplay, roc_curve\n",
    "\n",
    "ypred_score = pipe.decision_function(xtest)\n",
    "\n",
    "fpr, tpr, _ = roc_curve(ytest, ypred_score, pos_label=pipe.classes_[1])\n",
    "roc_display = RocCurveDisplay(fpr=fpr, tpr=tpr).plot()"
   ]
  },
  {
   "cell_type": "raw",
   "id": "18c7bfc3",
   "metadata": {},
   "source": [
    "Nous sommes maintenant à même de proposer un outil d'aide à la prise de décision clinique au corps médical !"
   ]
  },
  {
   "cell_type": "code",
   "execution_count": null,
   "id": "8c8a299f",
   "metadata": {},
   "outputs": [],
   "source": []
  }
 ],
 "metadata": {
  "kernelspec": {
   "display_name": "Python 3 (ipykernel)",
   "language": "python",
   "name": "python3"
  },
  "language_info": {
   "codemirror_mode": {
    "name": "ipython",
    "version": 3
   },
   "file_extension": ".py",
   "mimetype": "text/x-python",
   "name": "python",
   "nbconvert_exporter": "python",
   "pygments_lexer": "ipython3",
   "version": "3.11.4"
  }
 },
 "nbformat": 4,
 "nbformat_minor": 5
}
